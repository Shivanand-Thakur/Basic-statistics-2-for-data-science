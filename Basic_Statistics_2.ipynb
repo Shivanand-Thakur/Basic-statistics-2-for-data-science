{
  "nbformat": 4,
  "nbformat_minor": 0,
  "metadata": {
    "colab": {
      "provenance": []
    },
    "kernelspec": {
      "name": "python3",
      "display_name": "Python 3"
    },
    "language_info": {
      "name": "python"
    }
  },
  "cells": [
    {
      "cell_type": "code",
      "execution_count": 1,
      "metadata": {
        "id": "Ll6v77Km3-ml"
      },
      "outputs": [],
      "source": [
        "import pandas as pd\n",
        "patients_df = pd.read_csv(\"/content/drive/MyDrive/dataset/Patient_Data.csv\")\n",
        "billing_df = pd.read_csv(\"/content/drive/MyDrive/dataset/Billing_Data.csv\")"
      ]
    },
    {
      "cell_type": "code",
      "source": [
        "# 1. Show summary of patient dataset\n",
        "print(\"Patient Dataset Info:\")\n",
        "print(patients_df.info())"
      ],
      "metadata": {
        "colab": {
          "base_uri": "https://localhost:8080/"
        },
        "id": "xMTdfFZ94w5F",
        "outputId": "c3f82ead-9d24-47b2-9c0b-c16cfbad5e43"
      },
      "execution_count": 2,
      "outputs": [
        {
          "output_type": "stream",
          "name": "stdout",
          "text": [
            "Patient Dataset Info:\n",
            "<class 'pandas.core.frame.DataFrame'>\n",
            "RangeIndex: 6 entries, 0 to 5\n",
            "Data columns (total 7 columns):\n",
            " #   Column          Non-Null Count  Dtype  \n",
            "---  ------          --------------  -----  \n",
            " 0   PatientID       6 non-null      int64  \n",
            " 1   Name            6 non-null      object \n",
            " 2   Department      6 non-null      object \n",
            " 3   Doctor          6 non-null      object \n",
            " 4   BillAmount      4 non-null      float64\n",
            " 5   ReceptionistID  6 non-null      int64  \n",
            " 6   CheckInTime     6 non-null      object \n",
            "dtypes: float64(1), int64(2), object(4)\n",
            "memory usage: 468.0+ bytes\n",
            "None\n"
          ]
        }
      ]
    },
    {
      "cell_type": "code",
      "source": [
        "# 2. Select only relevant columns for billing\n",
        "billing_relevant = patients_df[['PatientID', 'Department', 'Doctor', 'BillAmount']]"
      ],
      "metadata": {
        "id": "itYJiTxH42MG"
      },
      "execution_count": 3,
      "outputs": []
    },
    {
      "cell_type": "code",
      "source": [
        "# 3. Drop administrative columns\n",
        "patients_df = patients_df.drop(['ReceptionistID', 'CheckInTime'], axis=1, errors='ignore')\n"
      ],
      "metadata": {
        "id": "kgf3XHZw47fe"
      },
      "execution_count": 4,
      "outputs": []
    },
    {
      "cell_type": "code",
      "source": [
        "# 4. Groupby department to find total bill amount\n",
        "dept_billing = billing_relevant.groupby('Department')['BillAmount'].sum().reset_index()\n",
        "print(\"\\nTotal Bill Amount per Department:\")\n",
        "print(dept_billing)"
      ],
      "metadata": {
        "colab": {
          "base_uri": "https://localhost:8080/"
        },
        "id": "KkD85g2Z5AyM",
        "outputId": "f14800d1-6ed8-487c-d89f-8d3c98e5de39"
      },
      "execution_count": 5,
      "outputs": [
        {
          "output_type": "stream",
          "name": "stdout",
          "text": [
            "\n",
            "Total Bill Amount per Department:\n",
            "    Department  BillAmount\n",
            "0   Cardiology     16200.0\n",
            "1  Dermatology         0.0\n",
            "2    Neurology         0.0\n",
            "3  Orthopedics      7500.0\n"
          ]
        }
      ]
    },
    {
      "cell_type": "code",
      "source": [
        "# 5. Remove duplicate patient records\n",
        "patients_df = patients_df.drop_duplicates(subset=['PatientID'])"
      ],
      "metadata": {
        "id": "lonUMwOf5FvC"
      },
      "execution_count": 6,
      "outputs": []
    },
    {
      "cell_type": "code",
      "source": [
        "# 6. Fill missing BillAmount values with mean\n",
        "mean_bill = billing_relevant['BillAmount'].mean()\n",
        "billing_relevant['BillAmount'] = billing_relevant['BillAmount'].fillna(mean_bill)\n"
      ],
      "metadata": {
        "id": "vp0MLjg65JWf"
      },
      "execution_count": 7,
      "outputs": []
    },
    {
      "cell_type": "code",
      "source": [
        "# 7. Merge billing dataset with patient dataset on PatientID\n",
        "merged_df = pd.merge(patients_df, billing_df, on='PatientID', how='left')"
      ],
      "metadata": {
        "id": "m3psq7kZ5QIr"
      },
      "execution_count": 8,
      "outputs": []
    },
    {
      "cell_type": "code",
      "source": [
        "# 8. Concatenate new patients (row-wise)\n",
        "new_patients = pd.DataFrame({\n",
        "    'PatientID': [501, 502],\n",
        "    'Department': ['Cardiology', 'Neurology'],\n",
        "    'Doctor': ['Dr. A', 'Dr. B'],\n",
        "    'BillAmount': [2000, 3500]\n",
        "})\n",
        "patients_updated = pd.concat([patients_df, new_patients], ignore_index=True)"
      ],
      "metadata": {
        "id": "1VPAPv-i5UQv"
      },
      "execution_count": 9,
      "outputs": []
    },
    {
      "cell_type": "code",
      "source": [
        "# 9. Concatenate new billing columns (column-wise)\n",
        "new_billing_cols = pd.DataFrame({\n",
        "    'InsuranceCovered': [True, False, True, False, True][:len(merged_df)],\n",
        "    'FinalAmount': merged_df['BillAmount'].fillna(mean_bill) * 0.9  # Example 10% discount\n",
        "})\n",
        "final_df = pd.concat([merged_df, new_billing_cols], axis=1)"
      ],
      "metadata": {
        "id": "wGTBnyCX5WEf"
      },
      "execution_count": 10,
      "outputs": []
    },
    {
      "cell_type": "code",
      "source": [
        "print(\"\\nFinal Cleaned Dataset:\")\n",
        "print(final_df.head())"
      ],
      "metadata": {
        "colab": {
          "base_uri": "https://localhost:8080/"
        },
        "id": "PxNOIaEf5ccB",
        "outputId": "e3a847d8-3a70-44eb-92ea-4a8626544f67"
      },
      "execution_count": 11,
      "outputs": [
        {
          "output_type": "stream",
          "name": "stdout",
          "text": [
            "\n",
            "Final Cleaned Dataset:\n",
            "   PatientID     Name   Department     Doctor  BillAmount  InsuranceCovered  \\\n",
            "0        101    Alice   Cardiology  Dr. Smith      5000.0              2000   \n",
            "1        102      Bob    Neurology   Dr. John         NaN              1500   \n",
            "2        103  Charlie  Orthopedics    Dr. Lee      7500.0              2500   \n",
            "3        104    David   Cardiology  Dr. Smith      6200.0              3000   \n",
            "4        105      Eva  Dermatology   Dr. Rose         NaN              1000   \n",
            "\n",
            "   FinalAmount  InsuranceCovered  FinalAmount  \n",
            "0         3000              True       4500.0  \n",
            "1         3500             False       5332.5  \n",
            "2         5000              True       6750.0  \n",
            "3         3200             False       5580.0  \n",
            "4         4000              True       5332.5  \n"
          ]
        }
      ]
    }
  ]
}